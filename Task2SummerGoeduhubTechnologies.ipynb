{
  "nbformat": 4,
  "nbformat_minor": 0,
  "metadata": {
    "colab": {
      "name": "Task2SummerGoeduhubTechnologies.ipynb",
      "provenance": [],
      "collapsed_sections": []
    },
    "kernelspec": {
      "name": "python3",
      "display_name": "Python 3"
    },
    "language_info": {
      "name": "python"
    }
  },
  "cells": [
    {
      "cell_type": "markdown",
      "metadata": {
        "id": "LZwLQ_6Qd3ed"
      },
      "source": [
        "***GO_STP_71: SURAJ SANJEEV PAWAR***"
      ]
    },
    {
      "cell_type": "markdown",
      "metadata": {
        "id": "L_h6v_lnd7Mc"
      },
      "source": [
        "**Goeduhub Technologies**<br>\n",
        "***https://www.goeduhub.com/***"
      ]
    },
    {
      "cell_type": "markdown",
      "metadata": {
        "id": "5lc-HYm6d-N_"
      },
      "source": [
        "**Assignment/Task 2**<br>\n",
        "***Online Summer training on Machine Learning & Data Science With Python***"
      ]
    },
    {
      "cell_type": "markdown",
      "metadata": {
        "id": "90yJr7kxeDYU"
      },
      "source": [
        "###***Q.1 Is a list mutable?***"
      ]
    },
    {
      "cell_type": "markdown",
      "metadata": {
        "id": "PTAwsAHcfLPA"
      },
      "source": [
        "Answer.Yes,list is mutable ,it can e change.for example:"
      ]
    },
    {
      "cell_type": "code",
      "metadata": {
        "colab": {
          "base_uri": "https://localhost:8080/"
        },
        "id": "UDpQzmxIeddS",
        "outputId": "dc0ff125-b4a5-4ccf-872a-50eee7826a76"
      },
      "source": [
        "list_1= ['a', 'd', 'f']\n",
        "list_1[1:1] = ['b', 'c']\n",
        "print(list_1)\n",
        "list_1[4:4] = ['e']\n",
        "print(list_1)\n"
      ],
      "execution_count": 2,
      "outputs": [
        {
          "output_type": "stream",
          "text": [
            "['a', 'b', 'c', 'd', 'f']\n",
            "['a', 'b', 'c', 'd', 'e', 'f']\n"
          ],
          "name": "stdout"
        }
      ]
    },
    {
      "cell_type": "markdown",
      "metadata": {
        "id": "xFtgtI2WfT5j"
      },
      "source": [
        "###***Q.2 Does a list need to be homogeneous?***"
      ]
    },
    {
      "cell_type": "markdown",
      "metadata": {
        "id": "qqDxWu3bfZ6G"
      },
      "source": [
        "Answer.No, a list need to be homogeneous.it is heterogerous as we can put any data such as integers, floats, strings, tuples, lists, and dictionaries  etc.for example:"
      ]
    },
    {
      "cell_type": "code",
      "metadata": {
        "colab": {
          "base_uri": "https://localhost:8080/"
        },
        "id": "2KBMj74pfUka",
        "outputId": "25a86c54-5cd3-434a-ff62-325a619f088d"
      },
      "source": [
        "list_1=[1,2,3,\"Sam\",\"John\",98,100]\n",
        "print(list_1)"
      ],
      "execution_count": 4,
      "outputs": [
        {
          "output_type": "stream",
          "text": [
            "[1, 2, 3, 'Sam', 'John', 98, 100]\n"
          ],
          "name": "stdout"
        }
      ]
    },
    {
      "cell_type": "markdown",
      "metadata": {
        "id": "7O-Q4c-3glJr"
      },
      "source": [
        "###***Q.3 What is the difference between a list and a tuple.***"
      ]
    },
    {
      "cell_type": "markdown",
      "metadata": {
        "id": "Z56kl4ntgv8N"
      },
      "source": [
        "Answer. <br>\n",
        "List:<br>\n",
        "1.List is mutable.<br>\n",
        "2.List iteration is slower and is time consuming.<br>\n",
        "3.List is useful for insertion and deletion operations.<br>\n",
        "4.List consumes more memory.\t<br>\n",
        "5.List provides many in-built methods.<br>\n",
        "6.List operations are more error prone.<br>\n",
        "<br>\n",
        "Tuple:<br>\n",
        "1.Tuple is immutable.<br>\n",
        "2.Tuple iteration is faster.<br>\n",
        "3.Tuple is useful for readonly operations like accessing elements.<br>\n",
        "4.Tuples consumes less memory.<br>\n",
        "5.Tuples have less in-built methods.<br>\n",
        "6.Tuples operations are safe.<br>\n"
      ]
    },
    {
      "cell_type": "markdown",
      "metadata": {
        "id": "JDH-SQlwiHvR"
      },
      "source": [
        "###***Q.4 How to find the number of elements in the list?***"
      ]
    },
    {
      "cell_type": "markdown",
      "metadata": {
        "id": "EhUvFEJIivR7"
      },
      "source": [
        "Answer.To find the number of elemnets in the list we can use len() function. for example :"
      ]
    },
    {
      "cell_type": "code",
      "metadata": {
        "colab": {
          "base_uri": "https://localhost:8080/"
        },
        "id": "71t02vgJiPw3",
        "outputId": "4ca67cc6-f35f-470a-e83c-c07079d13118"
      },
      "source": [
        "list_1= ['cat','dog','fish','hen','cow']\n",
        "print(len(list_1))"
      ],
      "execution_count": null,
      "outputs": [
        {
          "output_type": "execute_result",
          "data": {
            "text/plain": [
              "5"
            ]
          },
          "metadata": {
            "tags": []
          },
          "execution_count": 1
        }
      ]
    },
    {
      "cell_type": "markdown",
      "metadata": {
        "id": "agqTZB-Ji7Zs"
      },
      "source": [
        "###***Q.5 How to check whether the list is empty or not?***"
      ]
    },
    {
      "cell_type": "code",
      "metadata": {
        "colab": {
          "base_uri": "https://localhost:8080/"
        },
        "id": "_itCacJJmXc8",
        "outputId": "e108d970-53f2-4258-f15c-726a56c44dbf"
      },
      "source": [
        "list_2= []\n",
        "if len(list_2):\n",
        "\tprint('List is not Empty')\n",
        "else:\n",
        "\tprint('List is Empty')"
      ],
      "execution_count": null,
      "outputs": [
        {
          "output_type": "stream",
          "text": [
            "List is Empty\n"
          ],
          "name": "stdout"
        }
      ]
    },
    {
      "cell_type": "markdown",
      "metadata": {
        "id": "Nfqtv7m7nFZ4"
      },
      "source": [
        "###***Q.6 How to find the first and last element of the list?***"
      ]
    },
    {
      "cell_type": "markdown",
      "metadata": {
        "id": "Ntz33unnnm5f"
      },
      "source": [
        "Answer. To fin dthe first element of the given list,we can use A[0] and for last element we are use as A[-1].for example:"
      ]
    },
    {
      "cell_type": "code",
      "metadata": {
        "colab": {
          "base_uri": "https://localhost:8080/"
        },
        "id": "SF-90PEHnLPg",
        "outputId": "aa698bd7-791b-4650-9f07-ae9072050b3e"
      },
      "source": [
        "list_3= ['cat','dog','fish','hen','cow']\n",
        "print(\"The first element of the given list : \",list_3[0])\n",
        "print(\"The last element of the given list : \",list_3[-1])"
      ],
      "execution_count": null,
      "outputs": [
        {
          "output_type": "stream",
          "text": [
            "The first element of the given list :  cat\n",
            "The last element of the given list :  cow\n"
          ],
          "name": "stdout"
        }
      ]
    },
    {
      "cell_type": "markdown",
      "metadata": {
        "id": "9c_Nnhpsn5rV"
      },
      "source": [
        "###***Q.7 How to find the largest and lowest value in the list?***"
      ]
    },
    {
      "cell_type": "code",
      "metadata": {
        "colab": {
          "base_uri": "https://localhost:8080/"
        },
        "id": "yT0CjN43ohlK",
        "outputId": "16ead016-3130-4b2f-9fa0-ff54c43f30f3"
      },
      "source": [
        "list_4=[1,28,90,87,26,1,72]\n",
        "print(min(list_4))\n",
        "print(max(list_4))"
      ],
      "execution_count": null,
      "outputs": [
        {
          "output_type": "stream",
          "text": [
            "1\n",
            "90\n"
          ],
          "name": "stdout"
        }
      ]
    },
    {
      "cell_type": "markdown",
      "metadata": {
        "id": "59mmZaSEpHSs"
      },
      "source": [
        "**OR**"
      ]
    },
    {
      "cell_type": "code",
      "metadata": {
        "colab": {
          "base_uri": "https://localhost:8080/"
        },
        "id": "k_g0M_xepGw5",
        "outputId": "e96207ee-e69b-4ef0-86b7-5c4ca655004a"
      },
      "source": [
        "list_4=[]\n",
        "a= int(input('How many elements do you want?'))\n",
        "for i in range(a):\n",
        "    n = int(input('Enter a elements '))\n",
        "    list_4.append(n)\n",
        "print(\"Maximum element in the list is :\",max(list_4))\n",
        "print(\"Minimum element in the list is :\",min(list_4))2"
      ],
      "execution_count": null,
      "outputs": [
        {
          "output_type": "stream",
          "text": [
            "How many elements do you want?5\n",
            "Enter a elements 1\n",
            "Enter a elements 8\n",
            "Enter a elements 90\n",
            "Enter a elements 87\n",
            "Enter a elements 26\n",
            "Maximum element in the list is : 90\n",
            "Minimum element in the list is : 1\n"
          ],
          "name": "stdout"
        }
      ]
    },
    {
      "cell_type": "markdown",
      "metadata": {
        "id": "Q9U7ZgcGqDlq"
      },
      "source": [
        ""
      ]
    },
    {
      "cell_type": "markdown",
      "metadata": {
        "id": "A-FmTy4fqEho"
      },
      "source": [
        "###***Q.8 How to access elements of the list?***"
      ]
    },
    {
      "cell_type": "markdown",
      "metadata": {
        "id": "UJ8u5ltysDyh"
      },
      "source": [
        "Answer. To access elements form the lists,for that we are using slicing along with the index or indices to obtain value available at that index. For example −"
      ]
    },
    {
      "cell_type": "code",
      "metadata": {
        "colab": {
          "base_uri": "https://localhost:8080/"
        },
        "id": "z5KHASM_sHrM",
        "outputId": "003b333c-3e6c-400e-81d6-93acb3b21722"
      },
      "source": [
        "list_1= ['cat','dog','fish','hen','cow']\n",
        "list_4=[1,28,90,87,26,1,72]\n",
        "print (\"list1[0]:\",list_1[0])\n",
        "print (\"list4[1:5]:\",list_4[1:5])"
      ],
      "execution_count": null,
      "outputs": [
        {
          "output_type": "stream",
          "text": [
            "list1[0]: cat\n",
            "list4[1:5]: [28, 90, 87, 26]\n"
          ],
          "name": "stdout"
        }
      ]
    },
    {
      "cell_type": "markdown",
      "metadata": {
        "id": "oEhtTFefsnEM"
      },
      "source": [
        "###***Q.9 Remove elements in a list before a specific index?***"
      ]
    },
    {
      "cell_type": "code",
      "metadata": {
        "colab": {
          "base_uri": "https://localhost:8080/"
        },
        "id": "fBI8_9JNszR8",
        "outputId": "cdf2be29-af17-4519-9b6d-8f64f406c2ef"
      },
      "source": [
        "list_1= ['cat','dog','fish','hen','cow']\n",
        "print(list_1.remove('dog'))\n",
        "print(list_1)"
      ],
      "execution_count": null,
      "outputs": [
        {
          "output_type": "stream",
          "text": [
            "None\n",
            "['cat', 'fish', 'hen', 'cow']\n"
          ],
          "name": "stdout"
        }
      ]
    },
    {
      "cell_type": "markdown",
      "metadata": {
        "id": "oiOH4MS9wFIy"
      },
      "source": [
        "**OR**"
      ]
    },
    {
      "cell_type": "code",
      "metadata": {
        "colab": {
          "base_uri": "https://localhost:8080/"
        },
        "id": "ATnuTIoGtwMi",
        "outputId": "e212b7fa-fce2-4729-8208-30112d626ea5"
      },
      "source": [
        "list_1= ['cat','dog','fish','hen','cow']\n",
        "print(list_1.pop(1))\n",
        "print(list_1)"
      ],
      "execution_count": null,
      "outputs": [
        {
          "output_type": "stream",
          "text": [
            "dog\n",
            "['cat', 'fish', 'hen', 'cow']\n"
          ],
          "name": "stdout"
        }
      ]
    },
    {
      "cell_type": "markdown",
      "metadata": {
        "id": "sShdzEsFwVnV"
      },
      "source": [
        "###***Q. 10 Remove elements in a list between 2 indices?***"
      ]
    },
    {
      "cell_type": "code",
      "metadata": {
        "colab": {
          "base_uri": "https://localhost:8080/"
        },
        "id": "_ycln6gCt3uH",
        "outputId": "ec81abc1-92fb-492f-daaf-6a0a498298dc"
      },
      "source": [
        "list_2=[1,2,4,5,6,7]\n",
        "del list_2[1:3]\n",
        "print(list_2)"
      ],
      "execution_count": null,
      "outputs": [
        {
          "output_type": "stream",
          "text": [
            "[1, 5, 6, 7]\n"
          ],
          "name": "stdout"
        }
      ]
    },
    {
      "cell_type": "markdown",
      "metadata": {
        "id": "6touf7v8wkSm"
      },
      "source": [
        "###***Q.11 Return every 2nd element in a list between 2 indices?***"
      ]
    },
    {
      "cell_type": "code",
      "metadata": {
        "colab": {
          "base_uri": "https://localhost:8080/"
        },
        "id": "XHsqu1ZuwtYb",
        "outputId": "490f4e52-bce9-420b-ed7f-15b4d66f645e"
      },
      "source": [
        "list_2=[1,2,4,5,6,7]\n",
        "for i in range(1,5,2):\n",
        "  print(i)"
      ],
      "execution_count": null,
      "outputs": [
        {
          "output_type": "stream",
          "text": [
            "1\n",
            "3\n"
          ],
          "name": "stdout"
        }
      ]
    },
    {
      "cell_type": "markdown",
      "metadata": {
        "id": "003nWgVixeY3"
      },
      "source": [
        "###***Q.12 Get the first element from each nested list in a list***"
      ]
    },
    {
      "cell_type": "code",
      "metadata": {
        "colab": {
          "base_uri": "https://localhost:8080/"
        },
        "id": "zaijiOXKxjqS",
        "outputId": "06718d8c-5f8c-49db-ba07-65ae66e2fd15"
      },
      "source": [
        "list_5=[1,[1,2,3],2,3,4,5]\n",
        "print(list_5[1][0])"
      ],
      "execution_count": null,
      "outputs": [
        {
          "output_type": "stream",
          "text": [
            "1\n"
          ],
          "name": "stdout"
        }
      ]
    },
    {
      "cell_type": "markdown",
      "metadata": {
        "id": "xp4P_71Tx7uS"
      },
      "source": [
        "###***Q 13.How to modify elements of the list?***"
      ]
    },
    {
      "cell_type": "code",
      "metadata": {
        "colab": {
          "base_uri": "https://localhost:8080/"
        },
        "id": "9M2z2bWgx_y5",
        "outputId": "06ac3f9d-63e2-4156-b38c-0060847aef93"
      },
      "source": [
        "list_5=[1,[1,2,3],2,3,4,5]\n",
        "print(list_5)\n",
        "list_5[2]='suraj'\n",
        "print(list_5)"
      ],
      "execution_count": null,
      "outputs": [
        {
          "output_type": "stream",
          "text": [
            "[1, [1, 2, 3], 2, 3, 4, 5]\n",
            "[1, [1, 2, 3], 'suraj', 3, 4, 5]\n"
          ],
          "name": "stdout"
        }
      ]
    },
    {
      "cell_type": "code",
      "metadata": {
        "id": "yoN_qPyAyOwc"
      },
      "source": [
        ""
      ],
      "execution_count": null,
      "outputs": []
    },
    {
      "cell_type": "markdown",
      "metadata": {
        "id": "yKDz3GRXyPOs"
      },
      "source": [
        "###***Q.14 How to concatenate two lists?***"
      ]
    },
    {
      "cell_type": "code",
      "metadata": {
        "colab": {
          "base_uri": "https://localhost:8080/"
        },
        "id": "Upbe23-VyTmW",
        "outputId": "0d1bcd60-a225-440f-9da0-84494031661a"
      },
      "source": [
        "list1=[1,2,3]\n",
        "list2=[4,5,6]\n",
        "print(list1+list2)"
      ],
      "execution_count": null,
      "outputs": [
        {
          "output_type": "stream",
          "text": [
            "[1, 2, 3, 4, 5, 6]\n"
          ],
          "name": "stdout"
        }
      ]
    },
    {
      "cell_type": "markdown",
      "metadata": {
        "id": "JJX9Qgb6ye9P"
      },
      "source": [
        "###***Q.15 How to add two lists element-wise in python?***"
      ]
    },
    {
      "cell_type": "code",
      "metadata": {
        "colab": {
          "base_uri": "https://localhost:8080/"
        },
        "id": "YdL8HtNnyjc2",
        "outputId": "ec1e716f-91df-4f7b-f727-58f273f52331"
      },
      "source": [
        "list1 = [1, 2, 3]\n",
        "list2 = [4, 5, 6]\n",
        "sum_list = [a + b for a, b in zip(list1, list2)]\n",
        "print(sum_list)"
      ],
      "execution_count": null,
      "outputs": [
        {
          "output_type": "stream",
          "text": [
            "[5, 7, 9]\n"
          ],
          "name": "stdout"
        }
      ]
    },
    {
      "cell_type": "markdown",
      "metadata": {
        "id": "mukabDp9ztRG"
      },
      "source": [
        "###***Q.16 Difference between del and clear?***"
      ]
    },
    {
      "cell_type": "markdown",
      "metadata": {
        "id": "UknOkYa6gAVw"
      },
      "source": [
        "Anaswer.<br>\n",
        "del:<br>\n",
        "To remove items by index or slice we can use the del method in python .you can also remove elements from a list with del statements.<br>\n",
        "Note: It removes the specified index element."
      ]
    },
    {
      "cell_type": "code",
      "metadata": {
        "colab": {
          "base_uri": "https://localhost:8080/"
        },
        "id": "fA8EGJ4ggSBj",
        "outputId": "1d517e07-6169-4291-bc2b-ea7357d5c879"
      },
      "source": [
        "list1 = [[1, 3], 40, 9, 6, 8, 4, 60,]\n",
        "del list1[3]  \n",
        "print(list1)"
      ],
      "execution_count": 5,
      "outputs": [
        {
          "output_type": "stream",
          "text": [
            "[[1, 3], 40, 9, 8, 4, 60]\n"
          ],
          "name": "stdout"
        }
      ]
    },
    {
      "cell_type": "markdown",
      "metadata": {
        "id": "OQ3RM8h7geL4"
      },
      "source": [
        "clear():<br> \n",
        "clear() method in python is used to empty the entire list. this can be used if someone wants an empty list for any other purpose. "
      ]
    },
    {
      "cell_type": "code",
      "metadata": {
        "colab": {
          "base_uri": "https://localhost:8080/"
        },
        "id": "jGIjyENhglCO",
        "outputId": "2cb1db1b-83e2-4ee7-cc37-441c90dcbfb2"
      },
      "source": [
        "list1 = [[1, 3], 40, 9, 6, 8, 4, 60,]\n",
        "print(list1)\n",
        "list1.clear()\n",
        "print(list1)"
      ],
      "execution_count": 6,
      "outputs": [
        {
          "output_type": "stream",
          "text": [
            "[[1, 3], 40, 9, 6, 8, 4, 60]\n",
            "[]\n"
          ],
          "name": "stdout"
        }
      ]
    },
    {
      "cell_type": "markdown",
      "metadata": {
        "id": "6PY0am2zzyc9"
      },
      "source": [
        "###***Q.17 Difference between remove and pop?***\n"
      ]
    },
    {
      "cell_type": "markdown",
      "metadata": {
        "id": "JzfeGBzEg1KK"
      },
      "source": [
        "Answer.<br>\n",
        "remove():<br>\n",
        "remove() is an inbuilt function in Python programming language that removes a given object from the list. It removes the object from the list. It does not return any value.<br>\n",
        "Note: It removes the first occurrence of the object from the list. It does not deal with the index."
      ]
    },
    {
      "cell_type": "code",
      "metadata": {
        "colab": {
          "base_uri": "https://localhost:8080/"
        },
        "id": "35-BuGBWhA2A",
        "outputId": "74756cdf-4715-42bf-d959-7bbe9b989b20"
      },
      "source": [
        "list1 = [\"apple\", \"banana\", \"cherry\"]         \n",
        "list1.remove(\"banana\")         \n",
        "print(list1)"
      ],
      "execution_count": 8,
      "outputs": [
        {
          "output_type": "stream",
          "text": [
            "['apple', 'cherry']\n"
          ],
          "name": "stdout"
        }
      ]
    },
    {
      "cell_type": "markdown",
      "metadata": {
        "id": "2s_XC5JShJjA"
      },
      "source": [
        "pop():<br> \n",
        "The pop() method removes the item at the given index from the list and returns  the removed item.<br>"
      ]
    },
    {
      "cell_type": "code",
      "metadata": {
        "colab": {
          "base_uri": "https://localhost:8080/"
        },
        "id": "h6xLypDxhH_c",
        "outputId": "3b58f2c9-af61-4376-ab67-8ae797981c0a"
      },
      "source": [
        "list_1 = [78, \"a\", 89,  \"b\", \"z\" , 1, 20, 3, 4, \"m\" ]\n",
        "print(list_1)\n",
        "list_1.pop()\n",
        "print(list_1)"
      ],
      "execution_count": 9,
      "outputs": [
        {
          "output_type": "stream",
          "text": [
            "[78, 'a', 89, 'b', 'z', 1, 20, 3, 4, 'm']\n",
            "[78, 'a', 89, 'b', 'z', 1, 20, 3, 4]\n"
          ],
          "name": "stdout"
        }
      ]
    },
    {
      "cell_type": "markdown",
      "metadata": {
        "id": "gEosvEKWz0Br"
      },
      "source": [
        "###***Q.18 Difference between append and extend?***"
      ]
    },
    {
      "cell_type": "code",
      "metadata": {
        "colab": {
          "base_uri": "https://localhost:8080/"
        },
        "id": "Cfstyla2hop4",
        "outputId": "19715508-cff0-48da-b0a8-801442c1e63f"
      },
      "source": [
        "#append: Appends object at the end.\n",
        "x = [1, 2, 3]\n",
        "x.append([4, 5])\n",
        "print(x)"
      ],
      "execution_count": 10,
      "outputs": [
        {
          "output_type": "stream",
          "text": [
            "[1, 2, 3, [4, 5]]\n"
          ],
          "name": "stdout"
        }
      ]
    },
    {
      "cell_type": "code",
      "metadata": {
        "colab": {
          "base_uri": "https://localhost:8080/"
        },
        "id": "2JbrjOQQiwKO",
        "outputId": "71d4b79e-0ec2-4699-fdc9-e760919fdc71"
      },
      "source": [
        "#extend: Extends list by appending elements from the iterable.\n",
        "x = [1, 2, 3]\n",
        "x.extend([4, 5])\n",
        "print(x)"
      ],
      "execution_count": 12,
      "outputs": [
        {
          "output_type": "stream",
          "text": [
            "[1, 2, 3, 4, 5]\n"
          ],
          "name": "stdout"
        }
      ]
    },
    {
      "cell_type": "code",
      "metadata": {
        "colab": {
          "base_uri": "https://localhost:8080/"
        },
        "id": "12RLgEo5jQM9",
        "outputId": "2e7ebb0a-3672-41ec-e864-6a3c64b27e75"
      },
      "source": [
        "#combination example\n",
        "li = ['a', 'b', 'mpilgrim', 'z', 'example']\n",
        "print(li)\n",
        "li.append(\"new\")\n",
        "print(li)\n",
        "li.append([\"new\", 2])\n",
        "print(li)\n",
        "li.extend([\"two\", \"elements\"])\n",
        "print(li)"
      ],
      "execution_count": 13,
      "outputs": [
        {
          "output_type": "stream",
          "text": [
            "['a', 'b', 'mpilgrim', 'z', 'example']\n",
            "['a', 'b', 'mpilgrim', 'z', 'example', 'new']\n",
            "['a', 'b', 'mpilgrim', 'z', 'example', 'new', ['new', 2]]\n",
            "['a', 'b', 'mpilgrim', 'z', 'example', 'new', ['new', 2], 'two', 'elements']\n"
          ],
          "name": "stdout"
        }
      ]
    },
    {
      "cell_type": "markdown",
      "metadata": {
        "id": "FKQamJtKhpgm"
      },
      "source": [
        "Python append() method adds an element to a list.<br>\n",
        "extend() method concatenates the first list with another list (or another iterable). <br>\n",
        "When append() method adds its argument as a single element to the end of a list, the length of the list itself will increase by one. <br>\n",
        "Whereas extend() method iterates over its argument adding each element to the list, extending the list. The length of the list will increase by however many elements were in the iterable argument."
      ]
    },
    {
      "cell_type": "markdown",
      "metadata": {
        "id": "1bs__W-izzTV"
      },
      "source": [
        "###***Q.19 Difference between indexing and Slicing?***"
      ]
    },
    {
      "cell_type": "markdown",
      "metadata": {
        "id": "jEVq7xY_j7EP"
      },
      "source": [
        "Indexing: Indexing is used to obtain individual elements.<br>\n",
        "Indexing starts from 0.<br>\n",
        "Index 0 represents the first element in the sequence.<br>\n",
        "Negative indexing starts from -1. Index -1 represents the last element in the sequence."
      ]
    },
    {
      "cell_type": "code",
      "metadata": {
        "colab": {
          "base_uri": "https://localhost:8080/"
        },
        "id": "PI1XpnHEkP4b",
        "outputId": "d46d5d86-ee78-4039-f06a-dfebab7ed968"
      },
      "source": [
        "s=\"Python\"\n",
        "print (s[0])#Output:P\n",
        "print (s[-1])#Output:n\n",
        "print (s[-2])#Output:o"
      ],
      "execution_count": 16,
      "outputs": [
        {
          "output_type": "stream",
          "text": [
            "P\n",
            "n\n",
            "o\n"
          ],
          "name": "stdout"
        }
      ]
    },
    {
      "cell_type": "markdown",
      "metadata": {
        "id": "b37xqck5j9LZ"
      },
      "source": [
        "Slicing: Slicing is used to obtain a sequence of elements."
      ]
    },
    {
      "cell_type": "code",
      "metadata": {
        "colab": {
          "base_uri": "https://localhost:8080/"
        },
        "id": "n49BF6TDkYjV",
        "outputId": "36cf5566-d47d-42da-9937-d433e33bcae8"
      },
      "source": [
        "#Slicing :It's allows you to obtain substring\n",
        "s='Python'\n",
        "print (s[1:3])\n",
        "#Output:yt"
      ],
      "execution_count": 15,
      "outputs": [
        {
          "output_type": "stream",
          "text": [
            "yt\n"
          ],
          "name": "stdout"
        }
      ]
    },
    {
      "cell_type": "markdown",
      "metadata": {
        "id": "65Wh6r2iz10C"
      },
      "source": [
        "###***Q.20 Difference between sort and sorted?***\n"
      ]
    },
    {
      "cell_type": "markdown",
      "metadata": {
        "id": "61dqPlcfk2CT"
      },
      "source": [
        "The primary difference between the list sort() function and the sorted() function is that :<br>\n",
        "the sort() function will modify the list it is called on. <br>\n",
        "The sorted() function will create a new list containing a sorted version of the list it is given. <br>\n",
        "The sorted() function will not modify the list passed as a parameter. If you want to sort a list but still have the original unsorted version, then you would use the sorted() function. <br>\n",
        "If maintaining the original order of the list is unimportant, then you can call the sort() function on the list.\n",
        "\n",
        "A second important difference is that the sorted() function will return a list so you must assign the returned data to a new variable.<br>\n",
        "The sort() function modifies the list in-place and has no return value.\n"
      ]
    },
    {
      "cell_type": "code",
      "metadata": {
        "colab": {
          "base_uri": "https://localhost:8080/"
        },
        "id": "YxkGkxiQlQLp",
        "outputId": "9d621250-c47e-46d3-80ac-1e27d2c08f0f"
      },
      "source": [
        "vegetables = ['squash', 'pea', 'carrot', 'potato']\n",
        "print(\"actual list:\",vegetables)#actual list\n",
        "new_list = sorted(vegetables)\n",
        "print(\"using sorted function():\",new_list)# return the sorted list\n",
        "print(\"using sorted return same list:\",vegetables)# return the same list only\n",
        "vegetables.sort()#using sort\n",
        "print(\"using sort function() it return new list:\",vegetables)#it retuen the different list(or change list)"
      ],
      "execution_count": 24,
      "outputs": [
        {
          "output_type": "stream",
          "text": [
            "actual list: ['squash', 'pea', 'carrot', 'potato']\n",
            "using sorted function(): ['carrot', 'pea', 'potato', 'squash']\n",
            "using sorted return same list: ['squash', 'pea', 'carrot', 'potato']\n",
            "using sort function() it return new list: ['carrot', 'pea', 'potato', 'squash']\n"
          ],
          "name": "stdout"
        }
      ]
    },
    {
      "cell_type": "markdown",
      "metadata": {
        "id": "Xa6AZln9l2Nn"
      },
      "source": [
        "sorted():<br>\n",
        "This method doesn’t change the original list.<br>\n",
        "Return Type :returns a sorted list.<br><br>\n",
        "sort():<br>\n",
        "This method makes changes to the original sequence.<br>\n",
        "Return Type :returns none, has no return value."
      ]
    },
    {
      "cell_type": "markdown",
      "metadata": {
        "id": "GS_GIJZoz05S"
      },
      "source": [
        "###***Q.21 Difference between reverse and reversed?***\n"
      ]
    },
    {
      "cell_type": "markdown",
      "metadata": {
        "id": "yFNZKZKqpT49"
      },
      "source": [
        "The reversed() function returns the reversed iterator of the given sequence."
      ]
    },
    {
      "cell_type": "code",
      "metadata": {
        "colab": {
          "base_uri": "https://localhost:8080/"
        },
        "id": "ySI1TXUDpYjU",
        "outputId": "e49cce30-12a1-4bd2-d88b-10fcce5ed19d"
      },
      "source": [
        "# for string\n",
        "seq_string = 'Python'\n",
        "print(list(reversed(seq_string)))\n",
        "print(seq_string)\n",
        "\n",
        "# for tuple\n",
        "seq_tuple = ('P', 'y', 't', 'h', 'o', 'n')\n",
        "print(list(reversed(seq_tuple)))\n",
        "\n",
        "# for range\n",
        "seq_range = range(5, 9)\n",
        "print(list(reversed(seq_range)))\n",
        "\n",
        "# for list\n",
        "seq_list = [1, 2, 4, 3, 5]\n",
        "print(list(reversed(seq_list)))"
      ],
      "execution_count": 31,
      "outputs": [
        {
          "output_type": "stream",
          "text": [
            "['n', 'o', 'h', 't', 'y', 'P']\n",
            "Python\n",
            "['n', 'o', 'h', 't', 'y', 'P']\n",
            "[8, 7, 6, 5]\n",
            "[5, 3, 4, 2, 1]\n"
          ],
          "name": "stdout"
        }
      ]
    },
    {
      "cell_type": "markdown",
      "metadata": {
        "id": "Sc2R13ILpdAa"
      },
      "source": [
        "The reverse() method reverses the elements of the list."
      ]
    },
    {
      "cell_type": "code",
      "metadata": {
        "colab": {
          "base_uri": "https://localhost:8080/"
        },
        "id": "JJVZd_E2pgMy",
        "outputId": "9aa7ece0-6ca0-40a4-a1bd-3c5bf100da26"
      },
      "source": [
        "# Operating System List\n",
        "systems = ['Windows', 'macOS', 'Linux']\n",
        "print('Original List:', systems)\n",
        "\n",
        "# List Reverse\n",
        "systems.reverse()\n",
        "\n",
        "# updated list\n",
        "print('Updated List:', systems)\n",
        "print(systems)"
      ],
      "execution_count": 30,
      "outputs": [
        {
          "output_type": "stream",
          "text": [
            "Original List: ['Windows', 'macOS', 'Linux']\n",
            "Updated List: ['Linux', 'macOS', 'Windows']\n",
            "['Linux', 'macOS', 'Windows']\n"
          ],
          "name": "stdout"
        }
      ]
    },
    {
      "cell_type": "markdown",
      "metadata": {
        "id": "vcaQKXcTz2s4"
      },
      "source": [
        "###***Q.22 Difference between copy and deepcopy?***"
      ]
    },
    {
      "cell_type": "markdown",
      "metadata": {
        "id": "sSu_6IQEr1y2"
      },
      "source": [
        "Shallow Copy<br>\n",
        "A shallow copy creates a new object which stores the reference of the original elements.<br>\n",
        "So,a shallow copy doesn't create a copy of nested objects, instead it just copies the reference of nested objects. This means, a copy process does not recurse or create copies of nested objects itself."
      ]
    },
    {
      "cell_type": "code",
      "metadata": {
        "colab": {
          "base_uri": "https://localhost:8080/"
        },
        "id": "49MAgtlKrMAp",
        "outputId": "14f58146-2c71-449f-bee0-e9fcd6b1cd26"
      },
      "source": [
        "import copy\n",
        "\n",
        "old_list = [[1, 1, 1], [2, 2, 2], [3, 3, 3]]\n",
        "new_list = copy.copy(old_list)\n",
        "\n",
        "old_list.append([4, 4, 4])\n",
        "\n",
        "print(\"Old list:\", old_list)\n",
        "print(\"New list:\", new_list)"
      ],
      "execution_count": 34,
      "outputs": [
        {
          "output_type": "stream",
          "text": [
            "New list: [[1, 1, 1], [2, 2, 2], [3, 3, 3]]\n",
            "Old list: [[1, 1, 1], [2, 2, 2], [3, 3, 3], [4, 4, 4]]\n",
            "New list: [[1, 1, 1], [2, 2, 2], [3, 3, 3]]\n"
          ],
          "name": "stdout"
        }
      ]
    },
    {
      "cell_type": "markdown",
      "metadata": {
        "id": "5jshVJ2Jr7oO"
      },
      "source": [
        "Deep Copy<br>\n",
        "A deep copy creates a new object and recursively adds the copies of nested objects present in the original elements.<br>\n",
        "\n",
        "However, we are going to create deep copy using deepcopy() function present in copy module. The deep copy creates independent copy of original object and all its nested objects."
      ]
    },
    {
      "cell_type": "code",
      "metadata": {
        "colab": {
          "base_uri": "https://localhost:8080/"
        },
        "id": "KcuviNMDrDCw",
        "outputId": "24b8d9a3-935e-4487-cc22-829f45175f30"
      },
      "source": [
        "import copy\n",
        "\n",
        "old_list = [[1, 1, 1], [2, 2, 2], [3, 3, 3]]\n",
        "new_list = copy.deepcopy(old_list)\n",
        "\n",
        "old_list[1][0] = 'BB'\n",
        "\n",
        "print(\"Old list:\", old_list)\n",
        "print(\"New list:\", new_list)"
      ],
      "execution_count": 32,
      "outputs": [
        {
          "output_type": "stream",
          "text": [
            "Old list: [[1, 1, 1], ['BB', 2, 2], [3, 3, 3]]\n",
            "New list: [[1, 1, 1], [2, 2, 2], [3, 3, 3]]\n"
          ],
          "name": "stdout"
        }
      ]
    },
    {
      "cell_type": "markdown",
      "metadata": {
        "id": "AebeaVUAz4a9"
      },
      "source": [
        "###***Q.23 How to remove duplicate elements in the list?***\n"
      ]
    },
    {
      "cell_type": "code",
      "metadata": {
        "colab": {
          "base_uri": "https://localhost:8080/"
        },
        "id": "PsoQMusHshWt",
        "outputId": "edd3da70-2e80-414f-d6fe-771a2e17aaba"
      },
      "source": [
        "mylist = [\"a\", \"b\", \"a\", \"c\", \"c\"]\n",
        "mylist = list(dict.fromkeys(mylist))\n",
        "print(mylist)"
      ],
      "execution_count": 35,
      "outputs": [
        {
          "output_type": "stream",
          "text": [
            "['a', 'b', 'c']\n"
          ],
          "name": "stdout"
        }
      ]
    },
    {
      "cell_type": "markdown",
      "metadata": {
        "id": "DvCZ0qLGz3kk"
      },
      "source": [
        "###***Q.24 How to find an index of an element in the python list?***\n"
      ]
    },
    {
      "cell_type": "markdown",
      "metadata": {
        "id": "D5-Qt2kptQW9"
      },
      "source": [
        "The index() method returns the index of the given element in the list.\n",
        "If the element is not found, a ValueError exception is raised."
      ]
    },
    {
      "cell_type": "code",
      "metadata": {
        "colab": {
          "base_uri": "https://localhost:8080/"
        },
        "id": "0CPA8W8StGp3",
        "outputId": "6bfb5d91-f69c-4007-d0ce-b3ab467a174f"
      },
      "source": [
        "# vowels list\n",
        "vowels = ['a', 'e', 'i', 'o', 'i', 'u']\n",
        "\n",
        "# index of 'e' in vowels\n",
        "index = vowels.index('e')\n",
        "print('The index of e:', index)\n",
        "\n",
        "# element 'i' is searched\n",
        "# index of the first 'i' is returned\n",
        "index = vowels.index('i')\n",
        "\n",
        "print('The index of i:', index)"
      ],
      "execution_count": 36,
      "outputs": [
        {
          "output_type": "stream",
          "text": [
            "The index of e: 1\n",
            "The index of i: 2\n"
          ],
          "name": "stdout"
        }
      ]
    },
    {
      "cell_type": "markdown",
      "metadata": {
        "id": "E-pAFUjGz5T6"
      },
      "source": [
        "###***Q.25 How to find the occurrences of an element in the python list?***"
      ]
    },
    {
      "cell_type": "code",
      "metadata": {
        "colab": {
          "base_uri": "https://localhost:8080/"
        },
        "id": "XvNkWhWitZi6",
        "outputId": "3f534f19-0552-4161-910d-1b66bce94fc9"
      },
      "source": [
        "a_list = [\"a\", \"b\", \"a\"]\n",
        "occurrences = a_list.count(\"a\")\n",
        "print(occurrences)"
      ],
      "execution_count": 37,
      "outputs": [
        {
          "output_type": "stream",
          "text": [
            "2\n"
          ],
          "name": "stdout"
        }
      ]
    },
    {
      "cell_type": "code",
      "metadata": {
        "colab": {
          "base_uri": "https://localhost:8080/"
        },
        "id": "gdsHcxp5tk6n",
        "outputId": "379af683-2519-43d2-ccc8-6b64d1a5ed4f"
      },
      "source": [
        "import collections\n",
        "a_list = [\"a\", \"b\", \"a\"]\n",
        "occurrencess = collections.Counter(a_list)\n",
        "print(occurrencess)"
      ],
      "execution_count": 42,
      "outputs": [
        {
          "output_type": "stream",
          "text": [
            "Counter({'a': 2, 'b': 1})\n"
          ],
          "name": "stdout"
        }
      ]
    },
    {
      "cell_type": "markdown",
      "metadata": {
        "id": "8atgRJSXz6Ng"
      },
      "source": [
        "###***Q.26 How to insert an item at a given position?***\n"
      ]
    },
    {
      "cell_type": "code",
      "metadata": {
        "colab": {
          "base_uri": "https://localhost:8080/"
        },
        "id": "FoW-qlOmuSKJ",
        "outputId": "73195b4a-4cfe-4b1f-f3fe-0db81ad26553"
      },
      "source": [
        "# List of string \n",
        "list1 = ['Hello' ,  'Everyone', 'My', 'is ', 'Suraj', 'Sanjeev','Pawar']\n",
        "# Add an element at 3rd position in the list\n",
        "list1.insert(3, 'Name')\n",
        "print(list1)"
      ],
      "execution_count": 44,
      "outputs": [
        {
          "output_type": "stream",
          "text": [
            "['Hello', 'Everyone', 'My', 'Name', 'is ', 'Suraj', 'Sanjeev', 'Pawar']\n"
          ],
          "name": "stdout"
        }
      ]
    },
    {
      "cell_type": "markdown",
      "metadata": {
        "id": "nFIWqn6Iz7KL"
      },
      "source": [
        "###***Q.27 How to check if an item is in the list?***\n"
      ]
    },
    {
      "cell_type": "code",
      "metadata": {
        "colab": {
          "base_uri": "https://localhost:8080/"
        },
        "id": "c5mesfvOuvqn",
        "outputId": "fa2cc6ac-0e8e-4bf0-e28b-4589abaabbae"
      },
      "source": [
        "list1= [10, 15, 20, 7, 46, 2808]\n",
        "print(\"Checking if 15 exists in list1\")\n",
        "exist_count = list1.count(15)\n",
        " # checking if it is more then 0\n",
        "if exist_count > 0:\n",
        "    print(\"Yes, 15 exists in list1\")\n",
        "else:\n",
        "    print(\"No, 15 does not exists in list1\")"
      ],
      "execution_count": 46,
      "outputs": [
        {
          "output_type": "stream",
          "text": [
            "Checking if 15 exists in list1\n",
            "Yes, 15 exists in list1\n"
          ],
          "name": "stdout"
        }
      ]
    },
    {
      "cell_type": "markdown",
      "metadata": {
        "id": "DxT0XH5a0YxL"
      },
      "source": [
        "###***Q.28 How to flatten a list in python?***"
      ]
    },
    {
      "cell_type": "markdown",
      "metadata": {
        "id": "XoCTr4TVvjMA"
      },
      "source": [
        "In Python, a list of lists resembles a two-dimensional array - although Python doesn't have a concept of the array as in C or Java. Hence, flattening such a list of lists means getting elements of sublists into a one-dimensional array-like list. For example, a list [[1,2,3],[4,5,6]] is flattened into [1,2,3,4,5,6]."
      ]
    },
    {
      "cell_type": "code",
      "metadata": {
        "colab": {
          "base_uri": "https://localhost:8080/"
        },
        "id": "NExeieWAvbH7",
        "outputId": "a1665d2a-fd85-4894-b8c3-954d1da93c81"
      },
      "source": [
        "nestedlist = [ [1, 2, 3, 4], [\"Ten\", \"Twenty\", \"Thirty\"], [1.1,  1.0E1, 1+2j, 20.55, 3.142]]\n",
        "flatlist=[element for sublist in nestedlist for element in sublist]\n",
        "print(flatlist)"
      ],
      "execution_count": 47,
      "outputs": [
        {
          "output_type": "stream",
          "text": [
            "[1, 2, 3, 4, 'Ten', 'Twenty', 'Thirty', 1.1, 10.0, (1+2j), 20.55, 3.142]\n"
          ],
          "name": "stdout"
        }
      ]
    },
    {
      "cell_type": "markdown",
      "metadata": {
        "id": "sQ3Qd3480dLV"
      },
      "source": [
        "###***Q.29 How to convert python list to other data structures like set, tuple, dictionary?***\n"
      ]
    },
    {
      "cell_type": "code",
      "metadata": {
        "colab": {
          "base_uri": "https://localhost:8080/"
        },
        "id": "TuuwUlYdywUR",
        "outputId": "1d25f1d4-773f-45a1-90fa-fc708f5ffbaf"
      },
      "source": [
        "#list to tuple\n",
        "def convert(list):\n",
        "    return tuple(list)\n",
        "# Driver function\n",
        "list = [1, 2, 3, 4]\n",
        "print(convert(list))"
      ],
      "execution_count": 50,
      "outputs": [
        {
          "output_type": "stream",
          "text": [
            "(1, 2, 3, 4)\n"
          ],
          "name": "stdout"
        }
      ]
    },
    {
      "cell_type": "code",
      "metadata": {
        "colab": {
          "base_uri": "https://localhost:8080/"
        },
        "id": "1FFHfU7Uy-uL",
        "outputId": "9f8c2738-80af-4b8b-ed56-bccde658bc71"
      },
      "source": [
        "#list to set\n",
        "listOfStudents=['Mohan','John','Ramesh','Mohan','John']\n",
        "print(\"List of Students:\",listOfStudents)\n",
        "uniqueNames=set(listOfStudents)\n",
        "print(\"Set of uniqueNames:\",uniqueNames)\n",
        " \n",
        "listOfMarks=[8,7,6,7,8,8,7,6,7,8,9]\n",
        "print(\"List of Makrs:\",listOfMarks)\n",
        "setOfMarks=set(listOfMarks)\n",
        "print(\"Set of marks:\",setOfMarks)"
      ],
      "execution_count": 52,
      "outputs": [
        {
          "output_type": "stream",
          "text": [
            "List of Students: ['Mohan', 'John', 'Ramesh', 'Mohan', 'John']\n",
            "Set of uniqueNames: {'Mohan', 'John', 'Ramesh'}\n",
            "List of Makrs: [8, 7, 6, 7, 8, 8, 7, 6, 7, 8, 9]\n",
            "Set of marks: {8, 9, 6, 7}\n"
          ],
          "name": "stdout"
        }
      ]
    },
    {
      "cell_type": "code",
      "metadata": {
        "colab": {
          "base_uri": "https://localhost:8080/"
        },
        "id": "27deM8DxzRS5",
        "outputId": "7002a5a0-1774-4885-cbe4-5b988fda88b6"
      },
      "source": [
        "#list to dictionary:We can convert the list into dictionary using the dictionary comprehension.\n",
        "list1 = [1, 2, 3, 4, 5, 6, 7, 8, 9, 10]  \n",
        "square_dict = {n: n*n for n in list1}  \n",
        "print(square_dict)"
      ],
      "execution_count": 51,
      "outputs": [
        {
          "output_type": "stream",
          "text": [
            "{1: 1, 2: 4, 3: 9, 4: 16, 5: 25, 6: 36, 7: 49, 8: 64, 9: 81, 10: 100}\n"
          ],
          "name": "stdout"
        }
      ]
    },
    {
      "cell_type": "markdown",
      "metadata": {
        "id": "QJLM2dYh0e-h"
      },
      "source": [
        "###***Q.30 How to apply a function to all items in the list?***\n"
      ]
    },
    {
      "cell_type": "markdown",
      "metadata": {
        "id": "HHPATz7UwycG"
      },
      "source": [
        "Call map(func, *iterables) with a list as *iterables to apply func to each element of the list and return a map object. Use list() to convert the map object to a list."
      ]
    },
    {
      "cell_type": "code",
      "metadata": {
        "colab": {
          "base_uri": "https://localhost:8080/"
        },
        "id": "uibA-6k7wlz7",
        "outputId": "abfcfca3-8fe9-42a6-9690-e8d1550dc7bd"
      },
      "source": [
        "a_list = [\"a\", \"b\", \"c\"]\n",
        "map_object = map(str.upper, a_list)\n",
        "new_list = list(map_object)\n",
        "print(new_list)"
      ],
      "execution_count": 49,
      "outputs": [
        {
          "output_type": "stream",
          "text": [
            "['A', 'B', 'C']\n"
          ],
          "name": "stdout"
        }
      ]
    },
    {
      "cell_type": "markdown",
      "metadata": {
        "id": "gF7-692G0eNL"
      },
      "source": [
        "###***Q.31 How to filter the elements based on a function in a python list?***\n"
      ]
    },
    {
      "cell_type": "markdown",
      "metadata": {
        "id": "jGr2EOzKwdCR"
      },
      "source": [
        "The filter() function iterates over the elements of the list and applies the fn() function to each element. It returns an iterator for the elements where the fn() returns True ."
      ]
    },
    {
      "cell_type": "code",
      "metadata": {
        "colab": {
          "base_uri": "https://localhost:8080/"
        },
        "id": "ZEZ0Lxb7wHUp",
        "outputId": "f39dcb2c-31ea-4f23-d7bb-e8780a5f460c"
      },
      "source": [
        "scores = [70, 60, 80, 90, 50]\n",
        "filtered = filter(lambda score: score >= 70, scores)\n",
        "print(list(filtered))"
      ],
      "execution_count": 48,
      "outputs": [
        {
          "output_type": "stream",
          "text": [
            "[70, 80, 90]\n"
          ],
          "name": "stdout"
        }
      ]
    },
    {
      "cell_type": "markdown",
      "metadata": {
        "id": "87wr54_61LbC"
      },
      "source": [
        "###***Q.32 How python lists are stored in memory?***"
      ]
    },
    {
      "cell_type": "markdown",
      "metadata": {
        "id": "KFZ5i7Oz0SOe"
      },
      "source": [
        "The list is the fundamental linked data structure, whereas the array is the fundamental sequentially-allocated data structure. Lists, then, are stored in distinct chunks of memory which are linked together with pointers, which enables efficient use of memory generally and doesn't require resizing."
      ]
    },
    {
      "cell_type": "markdown",
      "metadata": {
        "id": "BbjAPEU01YrC"
      },
      "source": [
        "***Thank you Mam and Goeduhub Technologies***"
      ]
    }
  ]
}